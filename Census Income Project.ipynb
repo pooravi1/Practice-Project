{
 "cells": [
  {
   "cell_type": "markdown",
   "id": "2135d2d2",
   "metadata": {},
   "source": [
    "# Importing Libraries    "
   ]
  },
  {
   "cell_type": "code",
   "execution_count": 97,
   "id": "aa34cf9d",
   "metadata": {},
   "outputs": [],
   "source": [
    "import pandas as pd\n",
    "import numpy as np\n",
    "import seaborn as sns\n",
    "import matplotlib.pyplot as plt\n",
    "import warnings\n",
    "warnings.filterwarnings('ignore')"
   ]
  },
  {
   "cell_type": "code",
   "execution_count": 98,
   "id": "4279bbf4",
   "metadata": {},
   "outputs": [
    {
     "data": {
      "text/html": [
       "<div>\n",
       "<style scoped>\n",
       "    .dataframe tbody tr th:only-of-type {\n",
       "        vertical-align: middle;\n",
       "    }\n",
       "\n",
       "    .dataframe tbody tr th {\n",
       "        vertical-align: top;\n",
       "    }\n",
       "\n",
       "    .dataframe thead th {\n",
       "        text-align: right;\n",
       "    }\n",
       "</style>\n",
       "<table border=\"1\" class=\"dataframe\">\n",
       "  <thead>\n",
       "    <tr style=\"text-align: right;\">\n",
       "      <th></th>\n",
       "      <th>Age</th>\n",
       "      <th>Workclass</th>\n",
       "      <th>Fnlwgt</th>\n",
       "      <th>Education</th>\n",
       "      <th>Education_num</th>\n",
       "      <th>Marital_status</th>\n",
       "      <th>Occupation</th>\n",
       "      <th>Relationship</th>\n",
       "      <th>Race</th>\n",
       "      <th>Sex</th>\n",
       "      <th>Capital_gain</th>\n",
       "      <th>Capital_loss</th>\n",
       "      <th>Hours_per_week</th>\n",
       "      <th>Native_country</th>\n",
       "      <th>Income</th>\n",
       "    </tr>\n",
       "  </thead>\n",
       "  <tbody>\n",
       "    <tr>\n",
       "      <th>0</th>\n",
       "      <td>50</td>\n",
       "      <td>Self-emp-not-inc</td>\n",
       "      <td>83311</td>\n",
       "      <td>Bachelors</td>\n",
       "      <td>13</td>\n",
       "      <td>Married-civ-spouse</td>\n",
       "      <td>Exec-managerial</td>\n",
       "      <td>Husband</td>\n",
       "      <td>White</td>\n",
       "      <td>Male</td>\n",
       "      <td>0</td>\n",
       "      <td>0</td>\n",
       "      <td>13</td>\n",
       "      <td>United-States</td>\n",
       "      <td>&lt;=50K</td>\n",
       "    </tr>\n",
       "    <tr>\n",
       "      <th>1</th>\n",
       "      <td>38</td>\n",
       "      <td>Private</td>\n",
       "      <td>215646</td>\n",
       "      <td>HS-grad</td>\n",
       "      <td>9</td>\n",
       "      <td>Divorced</td>\n",
       "      <td>Handlers-cleaners</td>\n",
       "      <td>Not-in-family</td>\n",
       "      <td>White</td>\n",
       "      <td>Male</td>\n",
       "      <td>0</td>\n",
       "      <td>0</td>\n",
       "      <td>40</td>\n",
       "      <td>United-States</td>\n",
       "      <td>&lt;=50K</td>\n",
       "    </tr>\n",
       "    <tr>\n",
       "      <th>2</th>\n",
       "      <td>53</td>\n",
       "      <td>Private</td>\n",
       "      <td>234721</td>\n",
       "      <td>11th</td>\n",
       "      <td>7</td>\n",
       "      <td>Married-civ-spouse</td>\n",
       "      <td>Handlers-cleaners</td>\n",
       "      <td>Husband</td>\n",
       "      <td>Black</td>\n",
       "      <td>Male</td>\n",
       "      <td>0</td>\n",
       "      <td>0</td>\n",
       "      <td>40</td>\n",
       "      <td>United-States</td>\n",
       "      <td>&lt;=50K</td>\n",
       "    </tr>\n",
       "    <tr>\n",
       "      <th>3</th>\n",
       "      <td>28</td>\n",
       "      <td>Private</td>\n",
       "      <td>338409</td>\n",
       "      <td>Bachelors</td>\n",
       "      <td>13</td>\n",
       "      <td>Married-civ-spouse</td>\n",
       "      <td>Prof-specialty</td>\n",
       "      <td>Wife</td>\n",
       "      <td>Black</td>\n",
       "      <td>Female</td>\n",
       "      <td>0</td>\n",
       "      <td>0</td>\n",
       "      <td>40</td>\n",
       "      <td>Cuba</td>\n",
       "      <td>&lt;=50K</td>\n",
       "    </tr>\n",
       "    <tr>\n",
       "      <th>4</th>\n",
       "      <td>37</td>\n",
       "      <td>Private</td>\n",
       "      <td>284582</td>\n",
       "      <td>Masters</td>\n",
       "      <td>14</td>\n",
       "      <td>Married-civ-spouse</td>\n",
       "      <td>Exec-managerial</td>\n",
       "      <td>Wife</td>\n",
       "      <td>White</td>\n",
       "      <td>Female</td>\n",
       "      <td>0</td>\n",
       "      <td>0</td>\n",
       "      <td>40</td>\n",
       "      <td>United-States</td>\n",
       "      <td>&lt;=50K</td>\n",
       "    </tr>\n",
       "    <tr>\n",
       "      <th>...</th>\n",
       "      <td>...</td>\n",
       "      <td>...</td>\n",
       "      <td>...</td>\n",
       "      <td>...</td>\n",
       "      <td>...</td>\n",
       "      <td>...</td>\n",
       "      <td>...</td>\n",
       "      <td>...</td>\n",
       "      <td>...</td>\n",
       "      <td>...</td>\n",
       "      <td>...</td>\n",
       "      <td>...</td>\n",
       "      <td>...</td>\n",
       "      <td>...</td>\n",
       "      <td>...</td>\n",
       "    </tr>\n",
       "    <tr>\n",
       "      <th>32555</th>\n",
       "      <td>27</td>\n",
       "      <td>Private</td>\n",
       "      <td>257302</td>\n",
       "      <td>Assoc-acdm</td>\n",
       "      <td>12</td>\n",
       "      <td>Married-civ-spouse</td>\n",
       "      <td>Tech-support</td>\n",
       "      <td>Wife</td>\n",
       "      <td>White</td>\n",
       "      <td>Female</td>\n",
       "      <td>0</td>\n",
       "      <td>0</td>\n",
       "      <td>38</td>\n",
       "      <td>United-States</td>\n",
       "      <td>&lt;=50K</td>\n",
       "    </tr>\n",
       "    <tr>\n",
       "      <th>32556</th>\n",
       "      <td>40</td>\n",
       "      <td>Private</td>\n",
       "      <td>154374</td>\n",
       "      <td>HS-grad</td>\n",
       "      <td>9</td>\n",
       "      <td>Married-civ-spouse</td>\n",
       "      <td>Machine-op-inspct</td>\n",
       "      <td>Husband</td>\n",
       "      <td>White</td>\n",
       "      <td>Male</td>\n",
       "      <td>0</td>\n",
       "      <td>0</td>\n",
       "      <td>40</td>\n",
       "      <td>United-States</td>\n",
       "      <td>&gt;50K</td>\n",
       "    </tr>\n",
       "    <tr>\n",
       "      <th>32557</th>\n",
       "      <td>58</td>\n",
       "      <td>Private</td>\n",
       "      <td>151910</td>\n",
       "      <td>HS-grad</td>\n",
       "      <td>9</td>\n",
       "      <td>Widowed</td>\n",
       "      <td>Adm-clerical</td>\n",
       "      <td>Unmarried</td>\n",
       "      <td>White</td>\n",
       "      <td>Female</td>\n",
       "      <td>0</td>\n",
       "      <td>0</td>\n",
       "      <td>40</td>\n",
       "      <td>United-States</td>\n",
       "      <td>&lt;=50K</td>\n",
       "    </tr>\n",
       "    <tr>\n",
       "      <th>32558</th>\n",
       "      <td>22</td>\n",
       "      <td>Private</td>\n",
       "      <td>201490</td>\n",
       "      <td>HS-grad</td>\n",
       "      <td>9</td>\n",
       "      <td>Never-married</td>\n",
       "      <td>Adm-clerical</td>\n",
       "      <td>Own-child</td>\n",
       "      <td>White</td>\n",
       "      <td>Male</td>\n",
       "      <td>0</td>\n",
       "      <td>0</td>\n",
       "      <td>20</td>\n",
       "      <td>United-States</td>\n",
       "      <td>&lt;=50K</td>\n",
       "    </tr>\n",
       "    <tr>\n",
       "      <th>32559</th>\n",
       "      <td>52</td>\n",
       "      <td>Self-emp-inc</td>\n",
       "      <td>287927</td>\n",
       "      <td>HS-grad</td>\n",
       "      <td>9</td>\n",
       "      <td>Married-civ-spouse</td>\n",
       "      <td>Exec-managerial</td>\n",
       "      <td>Wife</td>\n",
       "      <td>White</td>\n",
       "      <td>Female</td>\n",
       "      <td>15024</td>\n",
       "      <td>0</td>\n",
       "      <td>40</td>\n",
       "      <td>United-States</td>\n",
       "      <td>&gt;50K</td>\n",
       "    </tr>\n",
       "  </tbody>\n",
       "</table>\n",
       "<p>32560 rows × 15 columns</p>\n",
       "</div>"
      ],
      "text/plain": [
       "       Age          Workclass  Fnlwgt    Education  Education_num  \\\n",
       "0       50   Self-emp-not-inc   83311    Bachelors             13   \n",
       "1       38            Private  215646      HS-grad              9   \n",
       "2       53            Private  234721         11th              7   \n",
       "3       28            Private  338409    Bachelors             13   \n",
       "4       37            Private  284582      Masters             14   \n",
       "...    ...                ...     ...          ...            ...   \n",
       "32555   27            Private  257302   Assoc-acdm             12   \n",
       "32556   40            Private  154374      HS-grad              9   \n",
       "32557   58            Private  151910      HS-grad              9   \n",
       "32558   22            Private  201490      HS-grad              9   \n",
       "32559   52       Self-emp-inc  287927      HS-grad              9   \n",
       "\n",
       "            Marital_status          Occupation    Relationship    Race  \\\n",
       "0       Married-civ-spouse     Exec-managerial         Husband   White   \n",
       "1                 Divorced   Handlers-cleaners   Not-in-family   White   \n",
       "2       Married-civ-spouse   Handlers-cleaners         Husband   Black   \n",
       "3       Married-civ-spouse      Prof-specialty            Wife   Black   \n",
       "4       Married-civ-spouse     Exec-managerial            Wife   White   \n",
       "...                    ...                 ...             ...     ...   \n",
       "32555   Married-civ-spouse        Tech-support            Wife   White   \n",
       "32556   Married-civ-spouse   Machine-op-inspct         Husband   White   \n",
       "32557              Widowed        Adm-clerical       Unmarried   White   \n",
       "32558        Never-married        Adm-clerical       Own-child   White   \n",
       "32559   Married-civ-spouse     Exec-managerial            Wife   White   \n",
       "\n",
       "           Sex  Capital_gain  Capital_loss  Hours_per_week  Native_country  \\\n",
       "0         Male             0             0              13   United-States   \n",
       "1         Male             0             0              40   United-States   \n",
       "2         Male             0             0              40   United-States   \n",
       "3       Female             0             0              40            Cuba   \n",
       "4       Female             0             0              40   United-States   \n",
       "...        ...           ...           ...             ...             ...   \n",
       "32555   Female             0             0              38   United-States   \n",
       "32556     Male             0             0              40   United-States   \n",
       "32557   Female             0             0              40   United-States   \n",
       "32558     Male             0             0              20   United-States   \n",
       "32559   Female         15024             0              40   United-States   \n",
       "\n",
       "       Income  \n",
       "0       <=50K  \n",
       "1       <=50K  \n",
       "2       <=50K  \n",
       "3       <=50K  \n",
       "4       <=50K  \n",
       "...       ...  \n",
       "32555   <=50K  \n",
       "32556    >50K  \n",
       "32557   <=50K  \n",
       "32558   <=50K  \n",
       "32559    >50K  \n",
       "\n",
       "[32560 rows x 15 columns]"
      ]
     },
     "execution_count": 98,
     "metadata": {},
     "output_type": "execute_result"
    }
   ],
   "source": [
    "df=pd.read_csv('https://raw.githubusercontent.com/dsrscientist/dataset1/master/census_income.csv')\n",
    "df"
   ]
  },
  {
   "cell_type": "code",
   "execution_count": 99,
   "id": "79980d4e",
   "metadata": {},
   "outputs": [
    {
     "data": {
      "text/plain": [
       "(32560, 15)"
      ]
     },
     "execution_count": 99,
     "metadata": {},
     "output_type": "execute_result"
    }
   ],
   "source": [
    "df.shape"
   ]
  },
  {
   "cell_type": "code",
   "execution_count": 100,
   "id": "452edc91",
   "metadata": {},
   "outputs": [
    {
     "data": {
      "text/plain": [
       "Age                int64\n",
       "Workclass         object\n",
       "Fnlwgt             int64\n",
       "Education         object\n",
       "Education_num      int64\n",
       "Marital_status    object\n",
       "Occupation        object\n",
       "Relationship      object\n",
       "Race              object\n",
       "Sex               object\n",
       "Capital_gain       int64\n",
       "Capital_loss       int64\n",
       "Hours_per_week     int64\n",
       "Native_country    object\n",
       "Income            object\n",
       "dtype: object"
      ]
     },
     "execution_count": 100,
     "metadata": {},
     "output_type": "execute_result"
    }
   ],
   "source": [
    "df.dtypes"
   ]
  },
  {
   "cell_type": "code",
   "execution_count": 101,
   "id": "2cf48622",
   "metadata": {},
   "outputs": [
    {
     "name": "stdout",
     "output_type": "stream",
     "text": [
      "<class 'pandas.core.frame.DataFrame'>\n",
      "RangeIndex: 32560 entries, 0 to 32559\n",
      "Data columns (total 15 columns):\n",
      " #   Column          Non-Null Count  Dtype \n",
      "---  ------          --------------  ----- \n",
      " 0   Age             32560 non-null  int64 \n",
      " 1   Workclass       32560 non-null  object\n",
      " 2   Fnlwgt          32560 non-null  int64 \n",
      " 3   Education       32560 non-null  object\n",
      " 4   Education_num   32560 non-null  int64 \n",
      " 5   Marital_status  32560 non-null  object\n",
      " 6   Occupation      32560 non-null  object\n",
      " 7   Relationship    32560 non-null  object\n",
      " 8   Race            32560 non-null  object\n",
      " 9   Sex             32560 non-null  object\n",
      " 10  Capital_gain    32560 non-null  int64 \n",
      " 11  Capital_loss    32560 non-null  int64 \n",
      " 12  Hours_per_week  32560 non-null  int64 \n",
      " 13  Native_country  32560 non-null  object\n",
      " 14  Income          32560 non-null  object\n",
      "dtypes: int64(6), object(9)\n",
      "memory usage: 3.7+ MB\n"
     ]
    }
   ],
   "source": [
    "df.info()"
   ]
  },
  {
   "cell_type": "code",
   "execution_count": 102,
   "id": "bc7f1030",
   "metadata": {},
   "outputs": [
    {
     "data": {
      "text/html": [
       "<div>\n",
       "<style scoped>\n",
       "    .dataframe tbody tr th:only-of-type {\n",
       "        vertical-align: middle;\n",
       "    }\n",
       "\n",
       "    .dataframe tbody tr th {\n",
       "        vertical-align: top;\n",
       "    }\n",
       "\n",
       "    .dataframe thead th {\n",
       "        text-align: right;\n",
       "    }\n",
       "</style>\n",
       "<table border=\"1\" class=\"dataframe\">\n",
       "  <thead>\n",
       "    <tr style=\"text-align: right;\">\n",
       "      <th></th>\n",
       "      <th>Age</th>\n",
       "      <th>Fnlwgt</th>\n",
       "      <th>Education_num</th>\n",
       "      <th>Capital_gain</th>\n",
       "      <th>Capital_loss</th>\n",
       "      <th>Hours_per_week</th>\n",
       "    </tr>\n",
       "  </thead>\n",
       "  <tbody>\n",
       "    <tr>\n",
       "      <th>count</th>\n",
       "      <td>32560.000000</td>\n",
       "      <td>3.256000e+04</td>\n",
       "      <td>32560.000000</td>\n",
       "      <td>32560.000000</td>\n",
       "      <td>32560.000000</td>\n",
       "      <td>32560.000000</td>\n",
       "    </tr>\n",
       "    <tr>\n",
       "      <th>mean</th>\n",
       "      <td>38.581634</td>\n",
       "      <td>1.897818e+05</td>\n",
       "      <td>10.080590</td>\n",
       "      <td>1077.615172</td>\n",
       "      <td>87.306511</td>\n",
       "      <td>40.437469</td>\n",
       "    </tr>\n",
       "    <tr>\n",
       "      <th>std</th>\n",
       "      <td>13.640642</td>\n",
       "      <td>1.055498e+05</td>\n",
       "      <td>2.572709</td>\n",
       "      <td>7385.402999</td>\n",
       "      <td>402.966116</td>\n",
       "      <td>12.347618</td>\n",
       "    </tr>\n",
       "    <tr>\n",
       "      <th>min</th>\n",
       "      <td>17.000000</td>\n",
       "      <td>1.228500e+04</td>\n",
       "      <td>1.000000</td>\n",
       "      <td>0.000000</td>\n",
       "      <td>0.000000</td>\n",
       "      <td>1.000000</td>\n",
       "    </tr>\n",
       "    <tr>\n",
       "      <th>25%</th>\n",
       "      <td>28.000000</td>\n",
       "      <td>1.178315e+05</td>\n",
       "      <td>9.000000</td>\n",
       "      <td>0.000000</td>\n",
       "      <td>0.000000</td>\n",
       "      <td>40.000000</td>\n",
       "    </tr>\n",
       "    <tr>\n",
       "      <th>50%</th>\n",
       "      <td>37.000000</td>\n",
       "      <td>1.783630e+05</td>\n",
       "      <td>10.000000</td>\n",
       "      <td>0.000000</td>\n",
       "      <td>0.000000</td>\n",
       "      <td>40.000000</td>\n",
       "    </tr>\n",
       "    <tr>\n",
       "      <th>75%</th>\n",
       "      <td>48.000000</td>\n",
       "      <td>2.370545e+05</td>\n",
       "      <td>12.000000</td>\n",
       "      <td>0.000000</td>\n",
       "      <td>0.000000</td>\n",
       "      <td>45.000000</td>\n",
       "    </tr>\n",
       "    <tr>\n",
       "      <th>max</th>\n",
       "      <td>90.000000</td>\n",
       "      <td>1.484705e+06</td>\n",
       "      <td>16.000000</td>\n",
       "      <td>99999.000000</td>\n",
       "      <td>4356.000000</td>\n",
       "      <td>99.000000</td>\n",
       "    </tr>\n",
       "  </tbody>\n",
       "</table>\n",
       "</div>"
      ],
      "text/plain": [
       "                Age        Fnlwgt  Education_num  Capital_gain  Capital_loss  \\\n",
       "count  32560.000000  3.256000e+04   32560.000000  32560.000000  32560.000000   \n",
       "mean      38.581634  1.897818e+05      10.080590   1077.615172     87.306511   \n",
       "std       13.640642  1.055498e+05       2.572709   7385.402999    402.966116   \n",
       "min       17.000000  1.228500e+04       1.000000      0.000000      0.000000   \n",
       "25%       28.000000  1.178315e+05       9.000000      0.000000      0.000000   \n",
       "50%       37.000000  1.783630e+05      10.000000      0.000000      0.000000   \n",
       "75%       48.000000  2.370545e+05      12.000000      0.000000      0.000000   \n",
       "max       90.000000  1.484705e+06      16.000000  99999.000000   4356.000000   \n",
       "\n",
       "       Hours_per_week  \n",
       "count    32560.000000  \n",
       "mean        40.437469  \n",
       "std         12.347618  \n",
       "min          1.000000  \n",
       "25%         40.000000  \n",
       "50%         40.000000  \n",
       "75%         45.000000  \n",
       "max         99.000000  "
      ]
     },
     "execution_count": 102,
     "metadata": {},
     "output_type": "execute_result"
    }
   ],
   "source": [
    "#Statistical Summary\n",
    "df.describe()"
   ]
  },
  {
   "cell_type": "code",
   "execution_count": 103,
   "id": "24314d65",
   "metadata": {},
   "outputs": [
    {
     "data": {
      "text/plain": [
       "Age               0\n",
       "Workclass         0\n",
       "Fnlwgt            0\n",
       "Education         0\n",
       "Education_num     0\n",
       "Marital_status    0\n",
       "Occupation        0\n",
       "Relationship      0\n",
       "Race              0\n",
       "Sex               0\n",
       "Capital_gain      0\n",
       "Capital_loss      0\n",
       "Hours_per_week    0\n",
       "Native_country    0\n",
       "Income            0\n",
       "dtype: int64"
      ]
     },
     "execution_count": 103,
     "metadata": {},
     "output_type": "execute_result"
    }
   ],
   "source": [
    "df.isnull().sum()"
   ]
  },
  {
   "cell_type": "markdown",
   "id": "50603a25",
   "metadata": {},
   "source": [
    "There are no missing values in dataset"
   ]
  },
  {
   "cell_type": "code",
   "execution_count": 104,
   "id": "b6bce42b",
   "metadata": {},
   "outputs": [
    {
     "data": {
      "text/plain": [
       "Age                  73\n",
       "Workclass             9\n",
       "Fnlwgt            21647\n",
       "Education            16\n",
       "Education_num        16\n",
       "Marital_status        7\n",
       "Occupation           15\n",
       "Relationship          6\n",
       "Race                  5\n",
       "Sex                   2\n",
       "Capital_gain        119\n",
       "Capital_loss         92\n",
       "Hours_per_week       94\n",
       "Native_country       42\n",
       "Income                2\n",
       "dtype: int64"
      ]
     },
     "execution_count": 104,
     "metadata": {},
     "output_type": "execute_result"
    }
   ],
   "source": [
    "df.nunique()"
   ]
  },
  {
   "cell_type": "code",
   "execution_count": 105,
   "id": "9dc8cd4a",
   "metadata": {},
   "outputs": [
    {
     "data": {
      "text/plain": [
       "36    898\n",
       "31    888\n",
       "34    886\n",
       "23    877\n",
       "35    876\n",
       "     ... \n",
       "83      6\n",
       "85      3\n",
       "88      3\n",
       "86      1\n",
       "87      1\n",
       "Name: Age, Length: 73, dtype: int64"
      ]
     },
     "execution_count": 105,
     "metadata": {},
     "output_type": "execute_result"
    }
   ],
   "source": [
    "df.Age.value_counts()"
   ]
  },
  {
   "cell_type": "code",
   "execution_count": 106,
   "id": "aee87c2e",
   "metadata": {},
   "outputs": [
    {
     "data": {
      "text/plain": [
       "Index(['Age', 'Workclass', 'Fnlwgt', 'Education', 'Education_num',\n",
       "       'Marital_status', 'Occupation', 'Relationship', 'Race', 'Sex',\n",
       "       'Capital_gain', 'Capital_loss', 'Hours_per_week', 'Native_country',\n",
       "       'Income'],\n",
       "      dtype='object')"
      ]
     },
     "execution_count": 106,
     "metadata": {},
     "output_type": "execute_result"
    }
   ],
   "source": [
    "df.columns"
   ]
  },
  {
   "cell_type": "code",
   "execution_count": 107,
   "id": "5b9e6e06",
   "metadata": {},
   "outputs": [
    {
     "data": {
      "text/plain": [
       " Private             22696\n",
       " Self-emp-not-inc     2541\n",
       " Local-gov            2093\n",
       " ?                    1836\n",
       " State-gov            1297\n",
       " Self-emp-inc         1116\n",
       " Federal-gov           960\n",
       " Without-pay            14\n",
       " Never-worked            7\n",
       "Name: Workclass, dtype: int64"
      ]
     },
     "execution_count": 107,
     "metadata": {},
     "output_type": "execute_result"
    }
   ],
   "source": [
    "df.Workclass.value_counts()"
   ]
  },
  {
   "cell_type": "code",
   "execution_count": 108,
   "id": "bbe99ee6",
   "metadata": {},
   "outputs": [
    {
     "data": {
      "text/plain": [
       "203488    13\n",
       "123011    13\n",
       "164190    13\n",
       "121124    12\n",
       "148995    12\n",
       "          ..\n",
       "218551     1\n",
       "201204     1\n",
       "362999     1\n",
       "162297     1\n",
       "145522     1\n",
       "Name: Fnlwgt, Length: 21647, dtype: int64"
      ]
     },
     "execution_count": 108,
     "metadata": {},
     "output_type": "execute_result"
    }
   ],
   "source": [
    "df.Fnlwgt.value_counts()"
   ]
  },
  {
   "cell_type": "code",
   "execution_count": 109,
   "id": "c6164369",
   "metadata": {},
   "outputs": [
    {
     "data": {
      "text/plain": [
       " HS-grad         10501\n",
       " Some-college     7291\n",
       " Bachelors        5354\n",
       " Masters          1723\n",
       " Assoc-voc        1382\n",
       " 11th             1175\n",
       " Assoc-acdm       1067\n",
       " 10th              933\n",
       " 7th-8th           646\n",
       " Prof-school       576\n",
       " 9th               514\n",
       " 12th              433\n",
       " Doctorate         413\n",
       " 5th-6th           333\n",
       " 1st-4th           168\n",
       " Preschool          51\n",
       "Name: Education, dtype: int64"
      ]
     },
     "execution_count": 109,
     "metadata": {},
     "output_type": "execute_result"
    }
   ],
   "source": [
    "df.Education.value_counts()"
   ]
  },
  {
   "cell_type": "code",
   "execution_count": 110,
   "id": "88d9b086",
   "metadata": {},
   "outputs": [
    {
     "data": {
      "text/plain": [
       "9     10501\n",
       "10     7291\n",
       "13     5354\n",
       "14     1723\n",
       "11     1382\n",
       "7      1175\n",
       "12     1067\n",
       "6       933\n",
       "4       646\n",
       "15      576\n",
       "5       514\n",
       "8       433\n",
       "16      413\n",
       "3       333\n",
       "2       168\n",
       "1        51\n",
       "Name: Education_num, dtype: int64"
      ]
     },
     "execution_count": 110,
     "metadata": {},
     "output_type": "execute_result"
    }
   ],
   "source": [
    "df.Education_num.value_counts()"
   ]
  },
  {
   "cell_type": "code",
   "execution_count": 111,
   "id": "9f0640a4",
   "metadata": {},
   "outputs": [
    {
     "data": {
      "text/plain": [
       " Married-civ-spouse       14976\n",
       " Never-married            10682\n",
       " Divorced                  4443\n",
       " Separated                 1025\n",
       " Widowed                    993\n",
       " Married-spouse-absent      418\n",
       " Married-AF-spouse           23\n",
       "Name: Marital_status, dtype: int64"
      ]
     },
     "execution_count": 111,
     "metadata": {},
     "output_type": "execute_result"
    }
   ],
   "source": [
    "df.Marital_status.value_counts()"
   ]
  },
  {
   "cell_type": "code",
   "execution_count": 112,
   "id": "b03c4e28",
   "metadata": {},
   "outputs": [
    {
     "data": {
      "text/plain": [
       " Prof-specialty       4140\n",
       " Craft-repair         4099\n",
       " Exec-managerial      4066\n",
       " Adm-clerical         3769\n",
       " Sales                3650\n",
       " Other-service        3295\n",
       " Machine-op-inspct    2002\n",
       " ?                    1843\n",
       " Transport-moving     1597\n",
       " Handlers-cleaners    1370\n",
       " Farming-fishing       994\n",
       " Tech-support          928\n",
       " Protective-serv       649\n",
       " Priv-house-serv       149\n",
       " Armed-Forces            9\n",
       "Name: Occupation, dtype: int64"
      ]
     },
     "execution_count": 112,
     "metadata": {},
     "output_type": "execute_result"
    }
   ],
   "source": [
    "df.Occupation.value_counts()"
   ]
  },
  {
   "cell_type": "code",
   "execution_count": 113,
   "id": "9d11547d",
   "metadata": {},
   "outputs": [
    {
     "data": {
      "text/plain": [
       " Husband           13193\n",
       " Not-in-family      8304\n",
       " Own-child          5068\n",
       " Unmarried          3446\n",
       " Wife               1568\n",
       " Other-relative      981\n",
       "Name: Relationship, dtype: int64"
      ]
     },
     "execution_count": 113,
     "metadata": {},
     "output_type": "execute_result"
    }
   ],
   "source": [
    "df.Relationship.value_counts()"
   ]
  },
  {
   "cell_type": "code",
   "execution_count": 114,
   "id": "6cb3f251",
   "metadata": {},
   "outputs": [
    {
     "data": {
      "text/plain": [
       " Male      21789\n",
       " Female    10771\n",
       "Name: Sex, dtype: int64"
      ]
     },
     "execution_count": 114,
     "metadata": {},
     "output_type": "execute_result"
    }
   ],
   "source": [
    "df.Sex.value_counts()"
   ]
  },
  {
   "cell_type": "code",
   "execution_count": 115,
   "id": "5195f58a",
   "metadata": {},
   "outputs": [
    {
     "data": {
      "text/plain": [
       "0        29849\n",
       "15024      347\n",
       "7688       284\n",
       "7298       246\n",
       "99999      159\n",
       "         ...  \n",
       "1639         1\n",
       "5060         1\n",
       "6097         1\n",
       "1455         1\n",
       "7978         1\n",
       "Name: Capital_gain, Length: 119, dtype: int64"
      ]
     },
     "execution_count": 115,
     "metadata": {},
     "output_type": "execute_result"
    }
   ],
   "source": [
    "df.Capital_gain.value_counts()"
   ]
  },
  {
   "cell_type": "code",
   "execution_count": 116,
   "id": "23f8d733",
   "metadata": {},
   "outputs": [
    {
     "data": {
      "text/plain": [
       "0       31041\n",
       "1902      202\n",
       "1977      168\n",
       "1887      159\n",
       "1485       51\n",
       "        ...  \n",
       "2467        1\n",
       "1539        1\n",
       "155         1\n",
       "2282        1\n",
       "1411        1\n",
       "Name: Capital_loss, Length: 92, dtype: int64"
      ]
     },
     "execution_count": 116,
     "metadata": {},
     "output_type": "execute_result"
    }
   ],
   "source": [
    "df.Capital_loss.value_counts()"
   ]
  },
  {
   "cell_type": "code",
   "execution_count": 117,
   "id": "a08c5af0",
   "metadata": {},
   "outputs": [
    {
     "data": {
      "text/plain": [
       "40    15216\n",
       "50     2819\n",
       "45     1824\n",
       "60     1475\n",
       "35     1297\n",
       "      ...  \n",
       "92        1\n",
       "74        1\n",
       "94        1\n",
       "82        1\n",
       "87        1\n",
       "Name: Hours_per_week, Length: 94, dtype: int64"
      ]
     },
     "execution_count": 117,
     "metadata": {},
     "output_type": "execute_result"
    }
   ],
   "source": [
    "df.Hours_per_week.value_counts()"
   ]
  },
  {
   "cell_type": "code",
   "execution_count": 118,
   "id": "be9eabd5",
   "metadata": {},
   "outputs": [
    {
     "data": {
      "text/plain": [
       " United-States                 29169\n",
       " Mexico                          643\n",
       " ?                               583\n",
       " Philippines                     198\n",
       " Germany                         137\n",
       " Canada                          121\n",
       " Puerto-Rico                     114\n",
       " El-Salvador                     106\n",
       " India                           100\n",
       " Cuba                             95\n",
       " England                          90\n",
       " Jamaica                          81\n",
       " South                            80\n",
       " China                            75\n",
       " Italy                            73\n",
       " Dominican-Republic               70\n",
       " Vietnam                          67\n",
       " Guatemala                        64\n",
       " Japan                            62\n",
       " Poland                           60\n",
       " Columbia                         59\n",
       " Taiwan                           51\n",
       " Haiti                            44\n",
       " Iran                             43\n",
       " Portugal                         37\n",
       " Nicaragua                        34\n",
       " Peru                             31\n",
       " France                           29\n",
       " Greece                           29\n",
       " Ecuador                          28\n",
       " Ireland                          24\n",
       " Hong                             20\n",
       " Cambodia                         19\n",
       " Trinadad&Tobago                  19\n",
       " Laos                             18\n",
       " Thailand                         18\n",
       " Yugoslavia                       16\n",
       " Outlying-US(Guam-USVI-etc)       14\n",
       " Honduras                         13\n",
       " Hungary                          13\n",
       " Scotland                         12\n",
       " Holand-Netherlands                1\n",
       "Name: Native_country, dtype: int64"
      ]
     },
     "execution_count": 118,
     "metadata": {},
     "output_type": "execute_result"
    }
   ],
   "source": [
    "df.Native_country.value_counts()"
   ]
  },
  {
   "cell_type": "code",
   "execution_count": 119,
   "id": "69b4e0d4",
   "metadata": {},
   "outputs": [
    {
     "data": {
      "text/plain": [
       " <=50K    24719\n",
       " >50K      7841\n",
       "Name: Income, dtype: int64"
      ]
     },
     "execution_count": 119,
     "metadata": {},
     "output_type": "execute_result"
    }
   ],
   "source": [
    "df.Income.value_counts()"
   ]
  },
  {
   "cell_type": "markdown",
   "id": "6dfe0db5",
   "metadata": {},
   "source": [
    "We can see we don't have any Null values in our dataset but We have few '?' in Workclass, Native_Country and Occupation Columns. We will replace these values by Mode."
   ]
  },
  {
   "cell_type": "code",
   "execution_count": 120,
   "id": "be72ff7c",
   "metadata": {},
   "outputs": [
    {
     "data": {
      "text/html": [
       "<div>\n",
       "<style scoped>\n",
       "    .dataframe tbody tr th:only-of-type {\n",
       "        vertical-align: middle;\n",
       "    }\n",
       "\n",
       "    .dataframe tbody tr th {\n",
       "        vertical-align: top;\n",
       "    }\n",
       "\n",
       "    .dataframe thead th {\n",
       "        text-align: right;\n",
       "    }\n",
       "</style>\n",
       "<table border=\"1\" class=\"dataframe\">\n",
       "  <thead>\n",
       "    <tr style=\"text-align: right;\">\n",
       "      <th></th>\n",
       "      <th>Age</th>\n",
       "      <th>Workclass</th>\n",
       "      <th>Fnlwgt</th>\n",
       "      <th>Education</th>\n",
       "      <th>Education_num</th>\n",
       "      <th>Marital_status</th>\n",
       "      <th>Occupation</th>\n",
       "      <th>Relationship</th>\n",
       "      <th>Race</th>\n",
       "      <th>Sex</th>\n",
       "      <th>Capital_gain</th>\n",
       "      <th>Capital_loss</th>\n",
       "      <th>Hours_per_week</th>\n",
       "      <th>Native_country</th>\n",
       "      <th>Income</th>\n",
       "    </tr>\n",
       "  </thead>\n",
       "  <tbody>\n",
       "    <tr>\n",
       "      <th>0</th>\n",
       "      <td>50</td>\n",
       "      <td>Self-emp-not-inc</td>\n",
       "      <td>83311</td>\n",
       "      <td>Bachelors</td>\n",
       "      <td>13</td>\n",
       "      <td>Married-civ-spouse</td>\n",
       "      <td>Exec-managerial</td>\n",
       "      <td>Husband</td>\n",
       "      <td>White</td>\n",
       "      <td>Male</td>\n",
       "      <td>0</td>\n",
       "      <td>0</td>\n",
       "      <td>13</td>\n",
       "      <td>United-States</td>\n",
       "      <td>&lt;=50K</td>\n",
       "    </tr>\n",
       "    <tr>\n",
       "      <th>1</th>\n",
       "      <td>38</td>\n",
       "      <td>Private</td>\n",
       "      <td>215646</td>\n",
       "      <td>HS-grad</td>\n",
       "      <td>9</td>\n",
       "      <td>Divorced</td>\n",
       "      <td>Handlers-cleaners</td>\n",
       "      <td>Not-in-family</td>\n",
       "      <td>White</td>\n",
       "      <td>Male</td>\n",
       "      <td>0</td>\n",
       "      <td>0</td>\n",
       "      <td>40</td>\n",
       "      <td>United-States</td>\n",
       "      <td>&lt;=50K</td>\n",
       "    </tr>\n",
       "    <tr>\n",
       "      <th>2</th>\n",
       "      <td>53</td>\n",
       "      <td>Private</td>\n",
       "      <td>234721</td>\n",
       "      <td>11th</td>\n",
       "      <td>7</td>\n",
       "      <td>Married-civ-spouse</td>\n",
       "      <td>Handlers-cleaners</td>\n",
       "      <td>Husband</td>\n",
       "      <td>Black</td>\n",
       "      <td>Male</td>\n",
       "      <td>0</td>\n",
       "      <td>0</td>\n",
       "      <td>40</td>\n",
       "      <td>United-States</td>\n",
       "      <td>&lt;=50K</td>\n",
       "    </tr>\n",
       "    <tr>\n",
       "      <th>3</th>\n",
       "      <td>28</td>\n",
       "      <td>Private</td>\n",
       "      <td>338409</td>\n",
       "      <td>Bachelors</td>\n",
       "      <td>13</td>\n",
       "      <td>Married-civ-spouse</td>\n",
       "      <td>Prof-specialty</td>\n",
       "      <td>Wife</td>\n",
       "      <td>Black</td>\n",
       "      <td>Female</td>\n",
       "      <td>0</td>\n",
       "      <td>0</td>\n",
       "      <td>40</td>\n",
       "      <td>Cuba</td>\n",
       "      <td>&lt;=50K</td>\n",
       "    </tr>\n",
       "    <tr>\n",
       "      <th>4</th>\n",
       "      <td>37</td>\n",
       "      <td>Private</td>\n",
       "      <td>284582</td>\n",
       "      <td>Masters</td>\n",
       "      <td>14</td>\n",
       "      <td>Married-civ-spouse</td>\n",
       "      <td>Exec-managerial</td>\n",
       "      <td>Wife</td>\n",
       "      <td>White</td>\n",
       "      <td>Female</td>\n",
       "      <td>0</td>\n",
       "      <td>0</td>\n",
       "      <td>40</td>\n",
       "      <td>United-States</td>\n",
       "      <td>&lt;=50K</td>\n",
       "    </tr>\n",
       "    <tr>\n",
       "      <th>...</th>\n",
       "      <td>...</td>\n",
       "      <td>...</td>\n",
       "      <td>...</td>\n",
       "      <td>...</td>\n",
       "      <td>...</td>\n",
       "      <td>...</td>\n",
       "      <td>...</td>\n",
       "      <td>...</td>\n",
       "      <td>...</td>\n",
       "      <td>...</td>\n",
       "      <td>...</td>\n",
       "      <td>...</td>\n",
       "      <td>...</td>\n",
       "      <td>...</td>\n",
       "      <td>...</td>\n",
       "    </tr>\n",
       "    <tr>\n",
       "      <th>32555</th>\n",
       "      <td>27</td>\n",
       "      <td>Private</td>\n",
       "      <td>257302</td>\n",
       "      <td>Assoc-acdm</td>\n",
       "      <td>12</td>\n",
       "      <td>Married-civ-spouse</td>\n",
       "      <td>Tech-support</td>\n",
       "      <td>Wife</td>\n",
       "      <td>White</td>\n",
       "      <td>Female</td>\n",
       "      <td>0</td>\n",
       "      <td>0</td>\n",
       "      <td>38</td>\n",
       "      <td>United-States</td>\n",
       "      <td>&lt;=50K</td>\n",
       "    </tr>\n",
       "    <tr>\n",
       "      <th>32556</th>\n",
       "      <td>40</td>\n",
       "      <td>Private</td>\n",
       "      <td>154374</td>\n",
       "      <td>HS-grad</td>\n",
       "      <td>9</td>\n",
       "      <td>Married-civ-spouse</td>\n",
       "      <td>Machine-op-inspct</td>\n",
       "      <td>Husband</td>\n",
       "      <td>White</td>\n",
       "      <td>Male</td>\n",
       "      <td>0</td>\n",
       "      <td>0</td>\n",
       "      <td>40</td>\n",
       "      <td>United-States</td>\n",
       "      <td>&gt;50K</td>\n",
       "    </tr>\n",
       "    <tr>\n",
       "      <th>32557</th>\n",
       "      <td>58</td>\n",
       "      <td>Private</td>\n",
       "      <td>151910</td>\n",
       "      <td>HS-grad</td>\n",
       "      <td>9</td>\n",
       "      <td>Widowed</td>\n",
       "      <td>Adm-clerical</td>\n",
       "      <td>Unmarried</td>\n",
       "      <td>White</td>\n",
       "      <td>Female</td>\n",
       "      <td>0</td>\n",
       "      <td>0</td>\n",
       "      <td>40</td>\n",
       "      <td>United-States</td>\n",
       "      <td>&lt;=50K</td>\n",
       "    </tr>\n",
       "    <tr>\n",
       "      <th>32558</th>\n",
       "      <td>22</td>\n",
       "      <td>Private</td>\n",
       "      <td>201490</td>\n",
       "      <td>HS-grad</td>\n",
       "      <td>9</td>\n",
       "      <td>Never-married</td>\n",
       "      <td>Adm-clerical</td>\n",
       "      <td>Own-child</td>\n",
       "      <td>White</td>\n",
       "      <td>Male</td>\n",
       "      <td>0</td>\n",
       "      <td>0</td>\n",
       "      <td>20</td>\n",
       "      <td>United-States</td>\n",
       "      <td>&lt;=50K</td>\n",
       "    </tr>\n",
       "    <tr>\n",
       "      <th>32559</th>\n",
       "      <td>52</td>\n",
       "      <td>Self-emp-inc</td>\n",
       "      <td>287927</td>\n",
       "      <td>HS-grad</td>\n",
       "      <td>9</td>\n",
       "      <td>Married-civ-spouse</td>\n",
       "      <td>Exec-managerial</td>\n",
       "      <td>Wife</td>\n",
       "      <td>White</td>\n",
       "      <td>Female</td>\n",
       "      <td>15024</td>\n",
       "      <td>0</td>\n",
       "      <td>40</td>\n",
       "      <td>United-States</td>\n",
       "      <td>&gt;50K</td>\n",
       "    </tr>\n",
       "  </tbody>\n",
       "</table>\n",
       "<p>32560 rows × 15 columns</p>\n",
       "</div>"
      ],
      "text/plain": [
       "       Age          Workclass  Fnlwgt    Education  Education_num  \\\n",
       "0       50   Self-emp-not-inc   83311    Bachelors             13   \n",
       "1       38            Private  215646      HS-grad              9   \n",
       "2       53            Private  234721         11th              7   \n",
       "3       28            Private  338409    Bachelors             13   \n",
       "4       37            Private  284582      Masters             14   \n",
       "...    ...                ...     ...          ...            ...   \n",
       "32555   27            Private  257302   Assoc-acdm             12   \n",
       "32556   40            Private  154374      HS-grad              9   \n",
       "32557   58            Private  151910      HS-grad              9   \n",
       "32558   22            Private  201490      HS-grad              9   \n",
       "32559   52       Self-emp-inc  287927      HS-grad              9   \n",
       "\n",
       "            Marital_status          Occupation    Relationship    Race  \\\n",
       "0       Married-civ-spouse     Exec-managerial         Husband   White   \n",
       "1                 Divorced   Handlers-cleaners   Not-in-family   White   \n",
       "2       Married-civ-spouse   Handlers-cleaners         Husband   Black   \n",
       "3       Married-civ-spouse      Prof-specialty            Wife   Black   \n",
       "4       Married-civ-spouse     Exec-managerial            Wife   White   \n",
       "...                    ...                 ...             ...     ...   \n",
       "32555   Married-civ-spouse        Tech-support            Wife   White   \n",
       "32556   Married-civ-spouse   Machine-op-inspct         Husband   White   \n",
       "32557              Widowed        Adm-clerical       Unmarried   White   \n",
       "32558        Never-married        Adm-clerical       Own-child   White   \n",
       "32559   Married-civ-spouse     Exec-managerial            Wife   White   \n",
       "\n",
       "           Sex  Capital_gain  Capital_loss  Hours_per_week  Native_country  \\\n",
       "0         Male             0             0              13   United-States   \n",
       "1         Male             0             0              40   United-States   \n",
       "2         Male             0             0              40   United-States   \n",
       "3       Female             0             0              40            Cuba   \n",
       "4       Female             0             0              40   United-States   \n",
       "...        ...           ...           ...             ...             ...   \n",
       "32555   Female             0             0              38   United-States   \n",
       "32556     Male             0             0              40   United-States   \n",
       "32557   Female             0             0              40   United-States   \n",
       "32558     Male             0             0              20   United-States   \n",
       "32559   Female         15024             0              40   United-States   \n",
       "\n",
       "       Income  \n",
       "0       <=50K  \n",
       "1       <=50K  \n",
       "2       <=50K  \n",
       "3       <=50K  \n",
       "4       <=50K  \n",
       "...       ...  \n",
       "32555   <=50K  \n",
       "32556    >50K  \n",
       "32557   <=50K  \n",
       "32558   <=50K  \n",
       "32559    >50K  \n",
       "\n",
       "[32560 rows x 15 columns]"
      ]
     },
     "execution_count": 120,
     "metadata": {},
     "output_type": "execute_result"
    }
   ],
   "source": [
    "df[\"Workclass\"]=df[\"Workclass\"].replace('?','Private')\n",
    "df[\"Occupation\"]=df[\"Occupation\"].replace('?', 'Prof-specialty')\n",
    "df[\"Native_country\"]=df[\"Native_country\"].replace('?','United-States')\n",
    "df"
   ]
  },
  {
   "cell_type": "markdown",
   "id": "c6343a00",
   "metadata": {},
   "source": [
    "# Bivariate Analysis"
   ]
  },
  {
   "cell_type": "code",
   "execution_count": 121,
   "id": "a20eb96c",
   "metadata": {},
   "outputs": [
    {
     "data": {
      "text/plain": [
       "<AxesSubplot:xlabel='Income', ylabel='count'>"
      ]
     },
     "execution_count": 121,
     "metadata": {},
     "output_type": "execute_result"
    },
    {
     "data": {
      "image/png": "[encoded data removed]",
      "text/plain": [
       "<Figure size 432x288 with 1 Axes>"
      ]
     },
     "metadata": {
      "needs_background": "light"
     },
     "output_type": "display_data"
    }
   ],
   "source": [
    "sns.countplot(df['Income'],palette='coolwarm', hue='Age', data=df)"
   ]
  },
  {
   "cell_type": "code",
   "execution_count": 122,
   "id": "46c50214",
   "metadata": {},
   "outputs": [
    {
     "data": {
      "text/plain": [
       "<AxesSubplot:xlabel='Income', ylabel='count'>"
      ]
     },
     "execution_count": 122,
     "metadata": {},
     "output_type": "execute_result"
    },
    {
     "data": {
      "image/png": "[encoded data removed]",
      "text/plain": [
       "<Figure size 432x288 with 1 Axes>"
      ]
     },
     "metadata": {
      "needs_background": "light"
     },
     "output_type": "display_data"
    }
   ],
   "source": [
    "sns.countplot(df['Income'],palette='coolwarm', hue='Workclass', data=df)"
   ]
  },
  {
   "cell_type": "code",
   "execution_count": 123,
   "id": "6f1eeb51",
   "metadata": {},
   "outputs": [
    {
     "data": {
      "text/plain": [
       "<AxesSubplot:xlabel='Income', ylabel='count'>"
      ]
     },
     "execution_count": 123,
     "metadata": {},
     "output_type": "execute_result"
    },
    {
     "data": {
      "image/png": "[encoded data removed]",
      "text/plain": [
       "<Figure size 432x288 with 1 Axes>"
      ]
     },
     "metadata": {
      "needs_background": "light"
     },
     "output_type": "display_data"
    }
   ],
   "source": [
    "sns.countplot(df['Income'],palette='coolwarm', hue='Education', data=df)"
   ]
  },
  {
   "cell_type": "code",
   "execution_count": 124,
   "id": "fa25248e",
   "metadata": {},
   "outputs": [
    {
     "data": {
      "text/plain": [
       "<AxesSubplot:xlabel='Income', ylabel='count'>"
      ]
     },
     "execution_count": 124,
     "metadata": {},
     "output_type": "execute_result"
    },
    {
     "data": {
      "image/png": "[encoded data removed]",
      "text/plain": [
       "<Figure size 432x288 with 1 Axes>"
      ]
     },
     "metadata": {
      "needs_background": "light"
     },
     "output_type": "display_data"
    }
   ],
   "source": [
    "sns.countplot(df['Income'],palette='coolwarm', hue='Marital_status', data=df)"
   ]
  },
  {
   "cell_type": "code",
   "execution_count": 125,
   "id": "fec6f0f8",
   "metadata": {},
   "outputs": [
    {
     "data": {
      "text/plain": [
       "<AxesSubplot:xlabel='Income', ylabel='count'>"
      ]
     },
     "execution_count": 125,
     "metadata": {},
     "output_type": "execute_result"
    },
    {
     "data": {
      "image/png": "[encoded data removed]",
      "text/plain": [
       "<Figure size 432x288 with 1 Axes>"
      ]
     },
     "metadata": {
      "needs_background": "light"
     },
     "output_type": "display_data"
    }
   ],
   "source": [
    "sns.countplot(df['Income'],palette='coolwarm', hue='Occupation', data=df)"
   ]
  },
  {
   "cell_type": "code",
   "execution_count": 126,
   "id": "340b12c7",
   "metadata": {},
   "outputs": [
    {
     "data": {
      "text/plain": [
       "<AxesSubplot:xlabel='Income', ylabel='count'>"
      ]
     },
     "execution_count": 126,
     "metadata": {},
     "output_type": "execute_result"
    },
    {
     "data": {
      "image/png": "[encoded data removed]",
      "text/plain": [
       "<Figure size 432x288 with 1 Axes>"
      ]
     },
     "metadata": {
      "needs_background": "light"
     },
     "output_type": "display_data"
    }
   ],
   "source": [
    "sns.countplot(df['Income'],palette='coolwarm', hue='Relationship', data=df)"
   ]
  },
  {
   "cell_type": "code",
   "execution_count": 127,
   "id": "e149245a",
   "metadata": {},
   "outputs": [
    {
     "data": {
      "text/plain": [
       "<AxesSubplot:xlabel='Income', ylabel='count'>"
      ]
     },
     "execution_count": 127,
     "metadata": {},
     "output_type": "execute_result"
    },
    {
     "data": {
      "image/png": "[encoded data removed]",
      "text/plain": [
       "<Figure size 432x288 with 1 Axes>"
      ]
     },
     "metadata": {
      "needs_background": "light"
     },
     "output_type": "display_data"
    }
   ],
   "source": [
    "sns.countplot(df['Income'],palette='coolwarm', hue='Race', data=df)"
   ]
  },
  {
   "cell_type": "code",
   "execution_count": 128,
   "id": "d326c509",
   "metadata": {},
   "outputs": [
    {
     "data": {
      "text/plain": [
       "<AxesSubplot:xlabel='Income', ylabel='count'>"
      ]
     },
     "execution_count": 128,
     "metadata": {},
     "output_type": "execute_result"
    },
    {
     "data": {
      "image/png": "[encoded data removed]",
      "text/plain": [
       "<Figure size 432x288 with 1 Axes>"
      ]
     },
     "metadata": {
      "needs_background": "light"
     },
     "output_type": "display_data"
    }
   ],
   "source": [
    "sns.countplot(df['Income'],palette='coolwarm', hue='Sex', data=df)"
   ]
  },
  {
   "cell_type": "code",
   "execution_count": 129,
   "id": "9bad9629",
   "metadata": {},
   "outputs": [
    {
     "data": {
      "text/plain": [
       "<AxesSubplot:xlabel='Income', ylabel='count'>"
      ]
     },
     "execution_count": 129,
     "metadata": {},
     "output_type": "execute_result"
    },
    {
     "data": {
      "image/png": "[encoded data removed]",
      "text/plain": [
       "<Figure size 432x288 with 1 Axes>"
      ]
     },
     "metadata": {
      "needs_background": "light"
     },
     "output_type": "display_data"
    }
   ],
   "source": [
    "sns.countplot(df['Income'],palette='coolwarm', hue='Hours_per_week', data=df)"
   ]
  },
  {
   "cell_type": "markdown",
   "id": "938735d7",
   "metadata": {},
   "source": [
    "# Checking Correlation"
   ]
  },
  {
   "cell_type": "code",
   "execution_count": 130,
   "id": "a5bcbbbb",
   "metadata": {},
   "outputs": [
    {
     "data": {
      "image/png": "[encoded data removed]",
      "text/plain": [
       "<Figure size 864x720 with 2 Axes>"
      ]
     },
     "metadata": {
      "needs_background": "light"
     },
     "output_type": "display_data"
    }
   ],
   "source": [
    "dfcor=df.corr()\n",
    "plt.figure(figsize=[12,10])\n",
    "sns.heatmap(dfcor,annot=True)\n",
    "plt.title(\"correlation matrix\")\n",
    "plt.show()"
   ]
  },
  {
   "cell_type": "markdown",
   "id": "fa9c43be",
   "metadata": {},
   "source": [
    "data is Fairly co-related."
   ]
  },
  {
   "cell_type": "markdown",
   "id": "b458f8e0",
   "metadata": {},
   "source": [
    "Let's check the data distribution among all the columns"
   ]
  },
  {
   "cell_type": "code",
   "execution_count": 131,
   "id": "dff7d009",
   "metadata": {},
   "outputs": [
    {
     "data": {
      "image/png": "[encoded data removed]",
      "text/plain": [
       "<Figure size 1296x864 with 66 Axes>"
      ]
     },
     "metadata": {
      "needs_background": "light"
     },
     "output_type": "display_data"
    }
   ],
   "source": [
    "df.plot(kind='density',subplots=True,layout=(6,11),sharex=False,legend=False,fontsize=1,figsize=(18,12))\n",
    "plt.show()"
   ]
  },
  {
   "cell_type": "markdown",
   "id": "b143e018",
   "metadata": {},
   "source": [
    "we can see skewness in data for multiple columns, will handle the skewness in further steps."
   ]
  },
  {
   "cell_type": "code",
   "execution_count": 132,
   "id": "b5ffa24a",
   "metadata": {},
   "outputs": [
    {
     "data": {
      "text/plain": [
       "Age                0.558738\n",
       "Fnlwgt             1.446972\n",
       "Education_num     -0.311630\n",
       "Capital_gain      11.953690\n",
       "Capital_loss       4.594549\n",
       "Hours_per_week     0.227636\n",
       "dtype: float64"
      ]
     },
     "execution_count": 132,
     "metadata": {},
     "output_type": "execute_result"
    }
   ],
   "source": [
    "df.skew()"
   ]
  },
  {
   "cell_type": "markdown",
   "id": "f3f296c8",
   "metadata": {},
   "source": [
    "we can see skewness in most of the columns of our dataset. we will remove the skewness using power_transform"
   ]
  },
  {
   "cell_type": "code",
   "execution_count": 133,
   "id": "7f45a9de",
   "metadata": {},
   "outputs": [
    {
     "data": {
      "image/png": "[encoded data removed]",
      "text/plain": [
       "<Figure size 432x288 with 1 Axes>"
      ]
     },
     "metadata": {
      "needs_background": "light"
     },
     "output_type": "display_data"
    }
   ],
   "source": [
    "plt.hist(np.log(df[\"Fnlwgt\"]))\n",
    "plt.title(\"Log Transform\")\n",
    "plt.show()"
   ]
  },
  {
   "cell_type": "code",
   "execution_count": 147,
   "id": "9be9ca1d",
   "metadata": {},
   "outputs": [],
   "source": [
    "from sklearn import preprocessing\n",
    "import math\n",
    "from sklearn import metrics \n",
    "le = preprocessing.LabelEncoder()\n",
    "categorial_variables = ['Workclass','Education','Marital_status','Occupation','Relationship','Race','Sex','Native_country']\n",
    "for i in categorial_variables:\n",
    "    df[i] = le.fit_transform(df[i])\n",
    "df.head(5)\n",
    "df.to_csv('LabelEncoded_CleanData.csv')"
   ]
  },
  {
   "cell_type": "code",
   "execution_count": 148,
   "id": "f9e4eb4f",
   "metadata": {},
   "outputs": [
    {
     "data": {
      "text/html": [
       "<div>\n",
       "<style scoped>\n",
       "    .dataframe tbody tr th:only-of-type {\n",
       "        vertical-align: middle;\n",
       "    }\n",
       "\n",
       "    .dataframe tbody tr th {\n",
       "        vertical-align: top;\n",
       "    }\n",
       "\n",
       "    .dataframe thead th {\n",
       "        text-align: right;\n",
       "    }\n",
       "</style>\n",
       "<table border=\"1\" class=\"dataframe\">\n",
       "  <thead>\n",
       "    <tr style=\"text-align: right;\">\n",
       "      <th></th>\n",
       "      <th>Age</th>\n",
       "      <th>Fnlwgt</th>\n",
       "      <th>Education</th>\n",
       "      <th>Education_num</th>\n",
       "      <th>Marital_status</th>\n",
       "      <th>Occupation</th>\n",
       "      <th>Relationship</th>\n",
       "      <th>Race</th>\n",
       "      <th>Sex</th>\n",
       "      <th>Capital_gain</th>\n",
       "      <th>Capital_loss</th>\n",
       "      <th>Hours_per_week</th>\n",
       "      <th>Native_country</th>\n",
       "      <th>Income</th>\n",
       "    </tr>\n",
       "  </thead>\n",
       "  <tbody>\n",
       "    <tr>\n",
       "      <th>0</th>\n",
       "      <td>50</td>\n",
       "      <td>83311</td>\n",
       "      <td>9</td>\n",
       "      <td>13</td>\n",
       "      <td>2</td>\n",
       "      <td>4</td>\n",
       "      <td>0</td>\n",
       "      <td>4</td>\n",
       "      <td>1</td>\n",
       "      <td>0</td>\n",
       "      <td>0</td>\n",
       "      <td>13</td>\n",
       "      <td>39</td>\n",
       "      <td>&lt;=50K</td>\n",
       "    </tr>\n",
       "    <tr>\n",
       "      <th>1</th>\n",
       "      <td>38</td>\n",
       "      <td>215646</td>\n",
       "      <td>11</td>\n",
       "      <td>9</td>\n",
       "      <td>0</td>\n",
       "      <td>6</td>\n",
       "      <td>1</td>\n",
       "      <td>4</td>\n",
       "      <td>1</td>\n",
       "      <td>0</td>\n",
       "      <td>0</td>\n",
       "      <td>40</td>\n",
       "      <td>39</td>\n",
       "      <td>&lt;=50K</td>\n",
       "    </tr>\n",
       "    <tr>\n",
       "      <th>2</th>\n",
       "      <td>53</td>\n",
       "      <td>234721</td>\n",
       "      <td>1</td>\n",
       "      <td>7</td>\n",
       "      <td>2</td>\n",
       "      <td>6</td>\n",
       "      <td>0</td>\n",
       "      <td>2</td>\n",
       "      <td>1</td>\n",
       "      <td>0</td>\n",
       "      <td>0</td>\n",
       "      <td>40</td>\n",
       "      <td>39</td>\n",
       "      <td>&lt;=50K</td>\n",
       "    </tr>\n",
       "    <tr>\n",
       "      <th>3</th>\n",
       "      <td>28</td>\n",
       "      <td>338409</td>\n",
       "      <td>9</td>\n",
       "      <td>13</td>\n",
       "      <td>2</td>\n",
       "      <td>10</td>\n",
       "      <td>5</td>\n",
       "      <td>2</td>\n",
       "      <td>0</td>\n",
       "      <td>0</td>\n",
       "      <td>0</td>\n",
       "      <td>40</td>\n",
       "      <td>5</td>\n",
       "      <td>&lt;=50K</td>\n",
       "    </tr>\n",
       "    <tr>\n",
       "      <th>4</th>\n",
       "      <td>37</td>\n",
       "      <td>284582</td>\n",
       "      <td>12</td>\n",
       "      <td>14</td>\n",
       "      <td>2</td>\n",
       "      <td>4</td>\n",
       "      <td>5</td>\n",
       "      <td>4</td>\n",
       "      <td>0</td>\n",
       "      <td>0</td>\n",
       "      <td>0</td>\n",
       "      <td>40</td>\n",
       "      <td>39</td>\n",
       "      <td>&lt;=50K</td>\n",
       "    </tr>\n",
       "  </tbody>\n",
       "</table>\n",
       "</div>"
      ],
      "text/plain": [
       "   Age  Fnlwgt  Education  Education_num  Marital_status  Occupation  \\\n",
       "0   50   83311          9             13               2           4   \n",
       "1   38  215646         11              9               0           6   \n",
       "2   53  234721          1              7               2           6   \n",
       "3   28  338409          9             13               2          10   \n",
       "4   37  284582         12             14               2           4   \n",
       "\n",
       "   Relationship  Race  Sex  Capital_gain  Capital_loss  Hours_per_week  \\\n",
       "0             0     4    1             0             0              13   \n",
       "1             1     4    1             0             0              40   \n",
       "2             0     2    1             0             0              40   \n",
       "3             5     2    0             0             0              40   \n",
       "4             5     4    0             0             0              40   \n",
       "\n",
       "   Native_country  Income  \n",
       "0              39   <=50K  \n",
       "1              39   <=50K  \n",
       "2              39   <=50K  \n",
       "3               5   <=50K  \n",
       "4              39   <=50K  "
      ]
     },
     "execution_count": 148,
     "metadata": {},
     "output_type": "execute_result"
    }
   ],
   "source": [
    "#dropping the Workclass Column\n",
    "df.drop('Workclass',axis=1,inplace=True)\n",
    "df.head()"
   ]
  },
  {
   "cell_type": "markdown",
   "id": "24cdc04b",
   "metadata": {},
   "source": [
    "# Splitting the independent and target variables in x and y"
   ]
  },
  {
   "cell_type": "code",
   "execution_count": 152,
   "id": "5eee637d",
   "metadata": {},
   "outputs": [],
   "source": [
    "x=df.drop(\"Income\",axis=1)\n",
    "y=df[\"Income\"]"
   ]
  },
  {
   "cell_type": "code",
   "execution_count": 153,
   "id": "4561b5cf",
   "metadata": {},
   "outputs": [],
   "source": [
    "from sklearn.model_selection import train_test_split\n",
    "x_train,x_test,y_train,y_test=train_test_split(x,y,test_size=.22,random_state=42)"
   ]
  },
  {
   "cell_type": "code",
   "execution_count": 154,
   "id": "57d2e5a7",
   "metadata": {},
   "outputs": [
    {
     "data": {
      "text/plain": [
       "(32560, 13)"
      ]
     },
     "execution_count": 154,
     "metadata": {},
     "output_type": "execute_result"
    }
   ],
   "source": [
    "x.shape"
   ]
  },
  {
   "cell_type": "code",
   "execution_count": 155,
   "id": "772dbe1a",
   "metadata": {},
   "outputs": [
    {
     "data": {
      "text/plain": [
       "(32560,)"
      ]
     },
     "execution_count": 155,
     "metadata": {},
     "output_type": "execute_result"
    }
   ],
   "source": [
    "y.shape"
   ]
  },
  {
   "cell_type": "code",
   "execution_count": 156,
   "id": "2243137d",
   "metadata": {},
   "outputs": [
    {
     "data": {
      "text/plain": [
       "(25396, 13)"
      ]
     },
     "execution_count": 156,
     "metadata": {},
     "output_type": "execute_result"
    }
   ],
   "source": [
    "x_train.shape"
   ]
  },
  {
   "cell_type": "code",
   "execution_count": 157,
   "id": "2d268e22",
   "metadata": {},
   "outputs": [
    {
     "data": {
      "text/plain": [
       "(25396,)"
      ]
     },
     "execution_count": 157,
     "metadata": {},
     "output_type": "execute_result"
    }
   ],
   "source": [
    "y_train.shape"
   ]
  },
  {
   "cell_type": "code",
   "execution_count": 158,
   "id": "e84042f7",
   "metadata": {},
   "outputs": [
    {
     "data": {
      "text/plain": [
       "(7164, 13)"
      ]
     },
     "execution_count": 158,
     "metadata": {},
     "output_type": "execute_result"
    }
   ],
   "source": [
    "x_test.shape"
   ]
  },
  {
   "cell_type": "code",
   "execution_count": 159,
   "id": "bea5abca",
   "metadata": {},
   "outputs": [
    {
     "data": {
      "text/plain": [
       "(7164,)"
      ]
     },
     "execution_count": 159,
     "metadata": {},
     "output_type": "execute_result"
    }
   ],
   "source": [
    "y_test.shape"
   ]
  },
  {
   "cell_type": "markdown",
   "id": "a807afd1",
   "metadata": {},
   "source": [
    "# Model Building"
   ]
  },
  {
   "cell_type": "code",
   "execution_count": 160,
   "id": "6c8d8df2",
   "metadata": {},
   "outputs": [],
   "source": [
    "#Importing Required libraries\n",
    "from sklearn.linear_model import LogisticRegression\n",
    "from sklearn.model_selection import cross_val_score\n",
    "from sklearn.linear_model import LogisticRegression\n",
    "from sklearn.neighbors import KNeighborsClassifier\n",
    "from sklearn.ensemble import RandomForestClassifier\n",
    "from sklearn.tree import DecisionTreeClassifier\n",
    "from sklearn.ensemble import AdaBoostClassifier\n",
    "from sklearn.svm import SVC\n",
    "from sklearn.metrics import accuracy_score,confusion_matrix,classification_report"
   ]
  },
  {
   "cell_type": "code",
   "execution_count": 165,
   "id": "2103432f",
   "metadata": {},
   "outputs": [],
   "source": [
    "lr=LogisticRegression() #Logistic Regression\n",
    "knn=KNeighborsClassifier() #KNearest Neibour \n",
    "dtc=DecisionTreeClassifier() # Deciesion Tree\n",
    "rf=RandomForestClassifier() # Random Forest\n",
    "adb=AdaBoostClassifier()    # Adaboost Classifier \n",
    "svm=SVC()              # support vector classifier        "
   ]
  },
  {
   "cell_type": "code",
   "execution_count": 166,
   "id": "11d02644",
   "metadata": {},
   "outputs": [
    {
     "name": "stdout",
     "output_type": "stream",
     "text": [
      "0.7885259631490787\n",
      "[[5109  293]\n",
      " [1222  540]]\n",
      "              precision    recall  f1-score   support\n",
      "\n",
      "       <=50K       0.81      0.95      0.87      5402\n",
      "        >50K       0.65      0.31      0.42      1762\n",
      "\n",
      "    accuracy                           0.79      7164\n",
      "   macro avg       0.73      0.63      0.64      7164\n",
      "weighted avg       0.77      0.79      0.76      7164\n",
      "\n"
     ]
    }
   ],
   "source": [
    "lr = LogisticRegression()\n",
    "lr.fit(x_train,y_train)\n",
    "predlr = lr.predict(x_test)\n",
    "print(accuracy_score(y_test,predlr))\n",
    "print(confusion_matrix(y_test,predlr))\n",
    "print(classification_report(y_test,predlr))"
   ]
  },
  {
   "cell_type": "code",
   "execution_count": 167,
   "id": "e4090878",
   "metadata": {},
   "outputs": [
    {
     "name": "stdout",
     "output_type": "stream",
     "text": [
      "0.7755443886097152\n",
      "[[4972  430]\n",
      " [1178  584]]\n",
      "              precision    recall  f1-score   support\n",
      "\n",
      "       <=50K       0.81      0.92      0.86      5402\n",
      "        >50K       0.58      0.33      0.42      1762\n",
      "\n",
      "    accuracy                           0.78      7164\n",
      "   macro avg       0.69      0.63      0.64      7164\n",
      "weighted avg       0.75      0.78      0.75      7164\n",
      "\n"
     ]
    }
   ],
   "source": [
    "knn=KNeighborsClassifier(n_neighbors=5)\n",
    "knn.fit(x_train,y_train)\n",
    "knn.score(x_train,y_train)\n",
    "predknn=knn.predict(x_test)\n",
    "print(accuracy_score(y_test,predknn))\n",
    "print(confusion_matrix(y_test,predknn))\n",
    "print(classification_report(y_test,predknn))"
   ]
  },
  {
   "cell_type": "code",
   "execution_count": 170,
   "id": "bbbda132",
   "metadata": {},
   "outputs": [
    {
     "name": "stdout",
     "output_type": "stream",
     "text": [
      "0.8047180346175321\n",
      "[[4637  765]\n",
      " [ 634 1128]]\n",
      "              precision    recall  f1-score   support\n",
      "\n",
      "       <=50K       0.88      0.86      0.87      5402\n",
      "        >50K       0.60      0.64      0.62      1762\n",
      "\n",
      "    accuracy                           0.80      7164\n",
      "   macro avg       0.74      0.75      0.74      7164\n",
      "weighted avg       0.81      0.80      0.81      7164\n",
      "\n"
     ]
    }
   ],
   "source": [
    "dtc=DecisionTreeClassifier()\n",
    "dtc.fit(x_train,y_train)\n",
    "dtc.score(x_train,y_train)\n",
    "preddtc=dtc.predict(x_test)\n",
    "print(accuracy_score(y_test,preddtc))\n",
    "print(confusion_matrix(y_test,preddtc))\n",
    "print(classification_report(y_test,preddtc))"
   ]
  },
  {
   "cell_type": "code",
   "execution_count": 168,
   "id": "fd30deed",
   "metadata": {},
   "outputs": [
    {
     "name": "stdout",
     "output_type": "stream",
     "text": [
      "0.8545505304299275\n",
      "[[5005  397]\n",
      " [ 645 1117]]\n",
      "              precision    recall  f1-score   support\n",
      "\n",
      "       <=50K       0.89      0.93      0.91      5402\n",
      "        >50K       0.74      0.63      0.68      1762\n",
      "\n",
      "    accuracy                           0.85      7164\n",
      "   macro avg       0.81      0.78      0.79      7164\n",
      "weighted avg       0.85      0.85      0.85      7164\n",
      "\n"
     ]
    }
   ],
   "source": [
    "rf=RandomForestClassifier()\n",
    "rf.fit(x_train,y_train)\n",
    "predrf=rf.predict(x_test)\n",
    "print(accuracy_score(y_test,predrf))\n",
    "print(confusion_matrix(y_test,predrf))\n",
    "print(classification_report(y_test,predrf))"
   ]
  },
  {
   "cell_type": "code",
   "execution_count": 171,
   "id": "5dcbec19",
   "metadata": {},
   "outputs": [
    {
     "name": "stdout",
     "output_type": "stream",
     "text": [
      "0.8580402010050251\n",
      "[[5074  328]\n",
      " [ 689 1073]]\n",
      "              precision    recall  f1-score   support\n",
      "\n",
      "       <=50K       0.88      0.94      0.91      5402\n",
      "        >50K       0.77      0.61      0.68      1762\n",
      "\n",
      "    accuracy                           0.86      7164\n",
      "   macro avg       0.82      0.77      0.79      7164\n",
      "weighted avg       0.85      0.86      0.85      7164\n",
      "\n"
     ]
    }
   ],
   "source": [
    "adb=AdaBoostClassifier()\n",
    "adb.fit(x_train,y_train)\n",
    "adb.score(x_train,y_train)\n",
    "predadb=adb.predict(x_test)\n",
    "print(accuracy_score(y_test,predadb))\n",
    "print(confusion_matrix(y_test,predadb))\n",
    "print(classification_report(y_test,predadb))"
   ]
  },
  {
   "cell_type": "code",
   "execution_count": 173,
   "id": "654c668b",
   "metadata": {},
   "outputs": [
    {
     "name": "stdout",
     "output_type": "stream",
     "text": [
      "0.7921552205471803\n",
      "[[5397    5]\n",
      " [1484  278]]\n",
      "              precision    recall  f1-score   support\n",
      "\n",
      "       <=50K       0.78      1.00      0.88      5402\n",
      "        >50K       0.98      0.16      0.27      1762\n",
      "\n",
      "    accuracy                           0.79      7164\n",
      "   macro avg       0.88      0.58      0.58      7164\n",
      "weighted avg       0.83      0.79      0.73      7164\n",
      "\n"
     ]
    }
   ],
   "source": [
    "svm=SVC()\n",
    "svm.fit(x_train,y_train)\n",
    "svm.score(x_train,y_train)\n",
    "predsvm=svm.predict(x_test)\n",
    "print(accuracy_score(y_test,predsvm))\n",
    "print(confusion_matrix(y_test,predsvm))\n",
    "print(classification_report(y_test,predsvm))"
   ]
  },
  {
   "cell_type": "markdown",
   "id": "340e5954",
   "metadata": {},
   "source": [
    "AdaBoost Classifier is producing good accuracy. We will check cross validation score now."
   ]
  },
  {
   "cell_type": "markdown",
   "id": "135d9d7e",
   "metadata": {},
   "source": [
    "# Cross Validation Value"
   ]
  },
  {
   "cell_type": "code",
   "execution_count": 187,
   "id": "37b2c842",
   "metadata": {},
   "outputs": [],
   "source": [
    "from sklearn.model_selection import cross_val_score"
   ]
  },
  {
   "cell_type": "code",
   "execution_count": 180,
   "id": "c5355c39",
   "metadata": {},
   "outputs": [
    {
     "name": "stdout",
     "output_type": "stream",
     "text": [
      "[0.78685504 0.78485872 0.78777641 0.79898649 0.80313268]\n"
     ]
    }
   ],
   "source": [
    "score=cross_val_score(lr,x,y,cv=5)\n",
    "print(score)"
   ]
  },
  {
   "cell_type": "code",
   "execution_count": 181,
   "id": "ccbe403a",
   "metadata": {},
   "outputs": [
    {
     "name": "stdout",
     "output_type": "stream",
     "text": [
      "[0.77625921 0.77610565 0.77948403 0.77410934 0.77687346]\n"
     ]
    }
   ],
   "source": [
    "score=cross_val_score(knn,x,y,cv=5)\n",
    "print(score)"
   ]
  },
  {
   "cell_type": "code",
   "execution_count": 182,
   "id": "abafeb0d",
   "metadata": {},
   "outputs": [
    {
     "name": "stdout",
     "output_type": "stream",
     "text": [
      "[0.85165848 0.85304054 0.85411548 0.85795455 0.85718673]\n"
     ]
    }
   ],
   "source": [
    "score=cross_val_score(rf,x,y,cv=5)\n",
    "print(score)"
   ]
  },
  {
   "cell_type": "code",
   "execution_count": 183,
   "id": "67fadeed",
   "metadata": {},
   "outputs": [
    {
     "name": "stdout",
     "output_type": "stream",
     "text": [
      "[0.81050369 0.80973587 0.80988943 0.81188575 0.80635749]\n"
     ]
    }
   ],
   "source": [
    "score=cross_val_score(dtc,x,y,cv=5)\n",
    "print(score)"
   ]
  },
  {
   "cell_type": "code",
   "execution_count": 185,
   "id": "1dd36366",
   "metadata": {},
   "outputs": [
    {
     "name": "stdout",
     "output_type": "stream",
     "text": [
      "[0.85411548 0.85288698 0.85933661 0.86317568 0.8597973 ]\n"
     ]
    }
   ],
   "source": [
    "score=cross_val_score(adb,x,y,cv=5)\n",
    "print(score)"
   ]
  },
  {
   "cell_type": "code",
   "execution_count": 186,
   "id": "e9864012",
   "metadata": {},
   "outputs": [
    {
     "name": "stdout",
     "output_type": "stream",
     "text": [
      "[0.79576167 0.79422604 0.79514742 0.79699017 0.79407248]\n"
     ]
    }
   ],
   "source": [
    "score=cross_val_score(svm,x,y,cv=5)\n",
    "print(score)"
   ]
  },
  {
   "cell_type": "markdown",
   "id": "6b65a8b1",
   "metadata": {},
   "source": [
    "By comparing all cross validation score we can see we received the max score in Adaboost Classifier. So Adaboost Classifier is the best model to analyse the Income."
   ]
  },
  {
   "cell_type": "markdown",
   "id": "f89d44d5",
   "metadata": {},
   "source": [
    "# Hyper Parameter Tuning"
   ]
  },
  {
   "cell_type": "code",
   "execution_count": null,
   "id": "7204e8fd",
   "metadata": {},
   "outputs": [],
   "source": [
    "from sklearn.model_selection import GridSearchCV\n",
    "#Creating paramter list to pass in GridSearch CV\n",
    "parameters = {'max_features':['auto','sqrt','log2'],\n",
    "             'max_depth':[4,5,6,7,8],\n",
    "              'criterion':['gini','entropy']}"
   ]
  },
  {
   "cell_type": "code",
   "execution_count": 192,
   "id": "758a6b4f",
   "metadata": {},
   "outputs": [
    {
     "data": {
      "text/plain": [
       "{'criterion': 'gini', 'max_depth': 8, 'max_features': 'log2'}"
      ]
     },
     "execution_count": 192,
     "metadata": {},
     "output_type": "execute_result"
    }
   ],
   "source": [
    "GCV=GridSearchCV(RandomForestClassifier(),parameters,cv=5,scoring=\"accuracy\")\n",
    "GCV.fit(x_train,y_train)  \n",
    "GCV.best_params_"
   ]
  },
  {
   "cell_type": "code",
   "execution_count": 191,
   "id": "09faa9d1",
   "metadata": {},
   "outputs": [
    {
     "data": {
      "text/plain": [
       "0.8566443327749861"
      ]
     },
     "execution_count": 191,
     "metadata": {},
     "output_type": "execute_result"
    }
   ],
   "source": [
    "GCV_pred=GCV.best_estimator_.predict(x_test)\n",
    "accuracy_score(y_test,GCV_pred)"
   ]
  },
  {
   "cell_type": "markdown",
   "id": "42483dd7",
   "metadata": {},
   "source": [
    "# Saving the Model"
   ]
  },
  {
   "cell_type": "code",
   "execution_count": 193,
   "id": "bc9ec2a4",
   "metadata": {},
   "outputs": [
    {
     "data": {
      "text/plain": [
       "['CensusIncome.pkl']"
      ]
     },
     "execution_count": 193,
     "metadata": {},
     "output_type": "execute_result"
    }
   ],
   "source": [
    "import joblib\n",
    "joblib.dump(RandomForestClassifier,\"CensusIncome.pkl\")"
   ]
  }
 ],
 "metadata": {
  "kernelspec": {
   "display_name": "Python 3",
   "language": "python",
   "name": "python3"
  },
  "language_info": {
   "codemirror_mode": {
    "name": "ipython",
    "version": 3
   },
   "file_extension": ".py",
   "mimetype": "text/x-python",
   "name": "python",
   "nbconvert_exporter": "python",
   "pygments_lexer": "ipython3",
   "version": "3.8.8"
  }
 },
 "nbformat": 4,
 "nbformat_minor": 5
}
